{
 "cells": [
  {
   "cell_type": "markdown",
   "id": "89369f68-4c56-42bf-bde4-9c023cf30c4a",
   "metadata": {},
   "source": [
    "# Data Science Tools and Ecosystem"
   ]
  },
  {
   "cell_type": "markdown",
   "id": "e5a054dd-3a13-4c51-ac64-33f8e2550b38",
   "metadata": {},
   "source": [
    "# In this notebook, Data Science Tools and Ecosystem are summarized."
   ]
  },
  {
   "cell_type": "markdown",
   "id": "b5da29e8-f7d9-4bb2-a903-702c467eb416",
   "metadata": {},
   "source": [
    "# Some of the popular languages that Data Scientists use are:\n",
    "\n",
    "1. Python\n",
    "2. R\n",
    "3. SQL\n",
    "4. Julia\n",
    "5. Java"
   ]
  },
  {
   "cell_type": "markdown",
   "id": "cde8eaab-b727-4ff2-97c2-fd0cc5689771",
   "metadata": {},
   "source": [
    "# Some of the commonly used libraries used by Data Scientists include:\n",
    "\n",
    "1. Matplotlib\n",
    "2. NumPy\n",
    "3. Pandas\n",
    "4. TensorFlow\n",
    "5. Scikit-learn"
   ]
  },
  {
   "cell_type": "markdown",
   "id": "491f2fd4-7e61-4cb6-8549-4961f526ccc6",
   "metadata": {},
   "source": [
    "# Create a markdown cell with a table of Data Science tools\n"
   ]
  },
  {
   "cell_type": "markdown",
   "id": "bef4c6b2-92de-4026-a6ce-6f3eab3c81df",
   "metadata": {},
   "source": [
    "|Data Science Tools|\n",
    "|----|\n",
    "|Apache Spark|\n",
    "|TensorFlow|\n",
    "|Tableau|"
   ]
  },
  {
   "cell_type": "markdown",
   "id": "b9880ada-3368-4c24-8789-77e81cbc1d5d",
   "metadata": {},
   "source": [
    "### Below are a few examples of evaluating arithmetic expressions in Python."
   ]
  },
  {
   "cell_type": "code",
   "execution_count": 29,
   "id": "0878b842-2ae3-4739-b2c3-985196f33fd3",
   "metadata": {},
   "outputs": [
    {
     "data": {
      "text/plain": [
       "17"
      ]
     },
     "execution_count": 29,
     "metadata": {},
     "output_type": "execute_result"
    }
   ],
   "source": [
    "#This a simple arithmetic expression to mutiply then add integers.\n",
    "\n",
    "(3*4)+5\n"
   ]
  },
  {
   "cell_type": "code",
   "execution_count": 43,
   "id": "22f3cd98-00ae-4e15-b176-d079c53a2eb6",
   "metadata": {},
   "outputs": [
    {
     "name": "stdout",
     "output_type": "stream",
     "text": [
      "3.3333333333333335\n"
     ]
    }
   ],
   "source": [
    "#This will convert 200 minutes to hours by diving by 60.\n",
    "\n",
    "minutes = 200\n",
    "hours = minutes / 60\n",
    "print(hours)"
   ]
  },
  {
   "cell_type": "markdown",
   "id": "5dd4f5cc-fca1-460a-882c-274b888388ea",
   "metadata": {},
   "source": [
    "**Objectives:**\n",
    "\n",
    "#unordered List <br>\n",
    "#List popular languages for Data Science.\n",
    "\n",
    "* Python\n",
    "* R\n",
    "* SQL\n",
    "* Java\n",
    "* Scala"
   ]
  },
  {
   "cell_type": "markdown",
   "id": "842423a2-18fb-4e5f-828c-6e13ab1588e6",
   "metadata": {},
   "source": [
    "## Author\n",
    " Valmik Doshi"
   ]
  },
  {
   "cell_type": "code",
   "execution_count": null,
   "id": "e1aced87-6f85-4923-8b09-e65eb6e878e9",
   "metadata": {},
   "outputs": [],
   "source": []
  }
 ],
 "metadata": {
  "kernelspec": {
   "display_name": "Python [conda env:base] *",
   "language": "python",
   "name": "conda-base-py"
  },
  "language_info": {
   "codemirror_mode": {
    "name": "ipython",
    "version": 3
   },
   "file_extension": ".py",
   "mimetype": "text/x-python",
   "name": "python",
   "nbconvert_exporter": "python",
   "pygments_lexer": "ipython3",
   "version": "3.12.7"
  }
 },
 "nbformat": 4,
 "nbformat_minor": 5
}
